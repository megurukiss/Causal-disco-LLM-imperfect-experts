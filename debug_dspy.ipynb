{
 "cells": [
  {
   "cell_type": "code",
   "execution_count": 25,
   "metadata": {},
   "outputs": [],
   "source": [
    "import dspy\n",
    "import os\n",
    "from dotenv import load_dotenv\n",
    "load_dotenv()\n",
    "lm = dspy.LM('openai/gpt-4o-mini', api_key=os.getenv('OPENAI_API_KEY'))\n",
    "dspy.configure(lm=lm)\n",
    "colbertv2_wiki17_abstracts = dspy.ColBERTv2(url='http://20.102.90.50:2017/wiki17_abstracts')\n",
    "dspy.settings.configure(rm=colbertv2_wiki17_abstracts)"
   ]
  },
  {
   "cell_type": "code",
   "execution_count": 2,
   "metadata": {},
   "outputs": [
    {
     "data": {
      "text/plain": [
       "['This is a test! How can I assist you today?']"
      ]
     },
     "execution_count": 2,
     "metadata": {},
     "output_type": "execute_result"
    }
   ],
   "source": [
    "lm(\"Say this is a test!\", temperature=0.7)"
   ]
  },
  {
   "cell_type": "code",
   "execution_count": 3,
   "metadata": {},
   "outputs": [
    {
     "name": "stdout",
     "output_type": "stream",
     "text": [
      "In Linux, \"high memory\" and \"low memory\" refer to different regions of the system's memory address space, particularly in the context of 32-bit architectures.\n",
      "\n",
      "- **Low Memory**: This typically refers to the memory that is directly accessible by the kernel. In a 32-bit system, this is usually the first 896 MB of RAM (from 0 to 896 MB). The kernel can directly map this memory, which allows for efficient access and management. Low memory is used for kernel data structures and for user processes that require memory allocation.\n",
      "\n",
      "- **High Memory**: This refers to the memory above the low memory limit, which is not directly accessible by the kernel in a 32-bit system. This area is typically above 896 MB and requires special handling to access. The kernel uses a mechanism called \"high memory management\" to allow user processes to utilize this memory. When a process needs to access high memory, the kernel must map it into the kernel's address space temporarily.\n",
      "\n",
      "In summary, low memory is directly accessible by the kernel, while high memory requires additional management to be accessed by user processes in a 32-bit Linux environment. In 64-bit systems, this distinction is less relevant as the kernel can address a much larger memory space directly.\n"
     ]
    }
   ],
   "source": [
    "qa = dspy.Predict('question: str -> response: str')\n",
    "response = qa(question=\"what are high memory and low memory on linux?\")\n",
    "\n",
    "print(response.response)"
   ]
  },
  {
   "cell_type": "code",
   "execution_count": 4,
   "metadata": {},
   "outputs": [
    {
     "name": "stdout",
     "output_type": "stream",
     "text": [
      "\n",
      "\n",
      "\n",
      "\n",
      "\u001b[34m[2024-12-01T11:51:49.525695]\u001b[0m\n",
      "\n",
      "\u001b[31mSystem message:\u001b[0m\n",
      "\n",
      "Your input fields are:\n",
      "1. `question` (str)\n",
      "\n",
      "Your output fields are:\n",
      "1. `response` (str)\n",
      "\n",
      "All interactions will be structured in the following way, with the appropriate values filled in.\n",
      "\n",
      "[[ ## question ## ]]\n",
      "{question}\n",
      "\n",
      "[[ ## response ## ]]\n",
      "{response}\n",
      "\n",
      "[[ ## completed ## ]]\n",
      "\n",
      "In adhering to this structure, your objective is: \n",
      "        Given the fields `question`, produce the fields `response`.\n",
      "\n",
      "\n",
      "\u001b[31mUser message:\u001b[0m\n",
      "\n",
      "[[ ## question ## ]]\n",
      "what are high memory and low memory on linux?\n",
      "\n",
      "Respond with the corresponding output fields, starting with the field `[[ ## response ## ]]`, and then ending with the marker for `[[ ## completed ## ]]`.\n",
      "\n",
      "\n",
      "\u001b[31mResponse:\u001b[0m\n",
      "\n",
      "\u001b[32m[[ ## response ## ]]\n",
      "In Linux, \"high memory\" and \"low memory\" refer to different regions of the system's memory address space, particularly in the context of 32-bit architectures.\n",
      "\n",
      "- **Low Memory**: This typically refers to the memory that is directly accessible by the kernel. In a 32-bit system, this is usually the first 896 MB of RAM (from 0 to 896 MB). The kernel can directly map this memory, which allows for efficient access and management. Low memory is used for kernel data structures and for user processes that require memory allocation.\n",
      "\n",
      "- **High Memory**: This refers to the memory above the low memory limit, which is not directly accessible by the kernel in a 32-bit system. This area is typically above 896 MB and requires special handling to access. The kernel uses a mechanism called \"high memory management\" to allow user processes to utilize this memory. When a process needs to access high memory, the kernel must map it into the kernel's address space temporarily.\n",
      "\n",
      "In summary, low memory is directly accessible by the kernel, while high memory requires additional management to be accessed by user processes in a 32-bit Linux environment. In 64-bit systems, this distinction is less relevant as the kernel can address a much larger memory space directly. \n",
      "\n",
      "[[ ## completed ## ]]\u001b[0m\n",
      "\n",
      "\n",
      "\n",
      "\n",
      "\n"
     ]
    }
   ],
   "source": [
    "dspy.inspect_history(n=1)"
   ]
  },
  {
   "cell_type": "code",
   "execution_count": 5,
   "metadata": {},
   "outputs": [
    {
     "data": {
      "text/plain": [
       "Prediction(\n",
       "    reasoning='The placement of curly braces on their own line is largely a matter of coding style and conventions. In some programming languages and style guides, such as those used in Java and C#, it is common to place opening curly braces on a new line to enhance readability and maintain a clear structure. This style is often referred to as \"Allman style\" or \"BSD indent style.\" Conversely, other styles, like the \"K&R style,\" place the opening brace on the same line as the control statement, which can save vertical space. Ultimately, the decision should be guided by the coding standards of the project or team you are working with.',\n",
       "    response=\"Curly braces can appear on their own line depending on the coding style you choose to follow. Some styles prefer them on a new line for better readability, while others keep them on the same line. It's best to adhere to the conventions of your specific project or team.\"\n",
       ")"
      ]
     },
     "execution_count": 5,
     "metadata": {},
     "output_type": "execute_result"
    }
   ],
   "source": [
    "cot = dspy.ChainOfThought('question -> response')\n",
    "cot(question=\"should curly braces appear on their own line?\")"
   ]
  },
  {
   "cell_type": "code",
   "execution_count": 21,
   "metadata": {},
   "outputs": [
    {
     "data": {
      "text/plain": [
       "Prediction(\n",
       "    reasoning='The causal relation \"age triggers socioeconomic status\" suggests that as individuals age, their socioeconomic status may change. However, socioeconomic status is influenced by a variety of factors including education, occupation, and income, which are not solely determined by age. While age can play a role in the accumulation of wealth and experience, it is not a direct trigger for socioeconomic status. Other factors such as education level and job opportunities are more significant determinants. Therefore, the probability that age directly triggers socioeconomic status is low.',\n",
       "    probability=0.2\n",
       ")"
      ]
     },
     "execution_count": 21,
     "metadata": {},
     "output_type": "execute_result"
    }
   ],
   "source": [
    "class CausalRelation(dspy.Signature):\n",
    "    \"\"\" Given a probable causal relation between two nodes, output the probability of the relation.\"\"\"\n",
    "    context: list[str] = dspy.InputField(desc=\"May contain relevant facts\")\n",
    "    causal_relation: str = dspy.InputField(desc=\"The causal relation between two nodes in a Markov equivalence class. Format: 'A triggers B'\")\n",
    "    probability: float = dspy.OutputField(desc=\"The probability (between 0 and 1) that the causal relation is true.\")\n",
    "\n",
    "class LLMExpert(dspy.Module):\n",
    "    def __init__(self):\n",
    "        self.causal_relation=dspy.ChainOfThought(CausalRelation)\n",
    "        # retrieve the wiki knowledge based on the given causal relation\n",
    "        self.retriever = dspy.Retrieve(k=3)\n",
    "    \n",
    "    def forward(self, causal_relation: str):\n",
    "        context=self.retriever(causal_relation).passages\n",
    "        response=self.causal_relation(context=context, causal_relation=causal_relation)\n",
    "        return response\n",
    "    \n",
    "llm_expert = LLMExpert()\n",
    "llm_expert(causal_relation=\"age triggers socioeconomic status\")"
   ]
  },
  {
   "cell_type": "code",
   "execution_count": 10,
   "metadata": {},
   "outputs": [
    {
     "data": {
      "text/plain": [
       "Prediction(\n",
       "    reasoning='The relationship between neighbourhood type and socioeconomic status is supported by various studies that indicate that the characteristics of a neighbourhood, such as its resources, safety, and social networks, can significantly influence the economic opportunities and outcomes of its residents. For instance, affluent neighbourhoods often provide better access to quality education and employment opportunities, which can lead to higher socioeconomic status. Conversely, disadvantaged neighbourhoods may perpetuate cycles of poverty. Therefore, it is reasonable to conclude that neighbourhood type can indeed catalyze socioeconomic status.',\n",
       "    probability=0.75\n",
       ")"
      ]
     },
     "execution_count": 10,
     "metadata": {},
     "output_type": "execute_result"
    }
   ],
   "source": [
    "causal_relation(causal_relation=\"neighbourhood type catalyzes socioeconomic status\")"
   ]
  },
  {
   "cell_type": "code",
   "execution_count": 13,
   "metadata": {},
   "outputs": [
    {
     "data": {
      "text/plain": [
       "[\"Socioeconomic status | Socioeconomic status (SES) is an economic and sociological combined total measure of a person's work experience and of an individual's or family's economic and social position in relation to others, based on income, education, and occupation. When analyzing a family's SES, the household income, earners' education, and occupation are examined, as well as combined income, whereas for an individual's SES only their own attributes are assessed. However, SES is more commonly used to depict an economic difference in society as a whole.\",\n",
       " 'Survey of Health, Ageing and Retirement in Europe | The Survey of Health, Ageing and Retirement in Europe (SHARE) is a multidisciplinary and cross-national panel database of micro data on health, socio-economic status as well as social and family networks of more than 45,000 individuals aged 50 or over. As such, it responds to a Communication by the European Commission calling to \"examine the possibility of establishing, in co-operation with Member States, a European Longitudinal Ageing Survey\". By now SHARE has become a major pillar of the European Research Area and in 2008 was selected as one of the projects to be implemented in the European Strategy Forum on Research Infrastructures (ESFRI).',\n",
       " 'Socioeconomic status and memory | Memory is one of the brain’s most critical functions. It has the infinite ability to store information about events and experiences that occur constantly. Experiences shape the way memories form, so major stressors on socioeconomic status can impact memory development. Socioeconomic status (SES) is a measurement of social standing based on income, education, and other factors. Socioeconomic status can differ cross-culturally, but is also commonly seen within cultures themselves. It influences all spectrums of a child’s life, including cognitive development, which is in a crucial and malleable state during early stages of childhood. In Canada, most children grow up in agreeable circumstances, however an unfortunate 8.1% are raised in households that fall into the category of low socioeconomic status. These children are at risk for many disadvantages in life, including deficits in memory processing, as well as problems in language development.']"
      ]
     },
     "execution_count": 13,
     "metadata": {},
     "output_type": "execute_result"
    }
   ],
   "source": [
    "retriever = dspy.Retrieve(k=3)\n",
    "retriever(\"age initiates socioeconomic status\").passages"
   ]
  },
  {
   "cell_type": "code",
   "execution_count": 6,
   "metadata": {},
   "outputs": [
    {
     "data": {
      "text/plain": [
       "array([0.95, 0.  ])"
      ]
     },
     "execution_count": 6,
     "metadata": {},
     "output_type": "execute_result"
    }
   ],
   "source": [
    "from utils.language_models import gpt_call\n",
    "import pandas as pd\n",
    "codebook = pd.read_csv('codebooks/' + 'asia' + '.csv')\n",
    "gpt_call((\"smoke\",\"lung\"), codebook)"
   ]
  },
  {
   "cell_type": "code",
   "execution_count": 7,
   "metadata": {},
   "outputs": [
    {
     "name": "stdout",
     "output_type": "stream",
     "text": [
      "{'\\nsmoking cigarettes causes lung cancer\\n': 0.95, '\\nlung cancer causes smoking cigarettes\\n': 0.0}\n"
     ]
    }
   ],
   "source": [
    "import pickle\n",
    "cache_file='dspy_cache.pickle'\n",
    "# load the data from the cache file\n",
    "with open(cache_file, 'rb') as f:\n",
    "    data = pickle.load(f)\n",
    "print(data)"
   ]
  },
  {
   "cell_type": "code",
   "execution_count": null,
   "metadata": {},
   "outputs": [],
   "source": []
  }
 ],
 "metadata": {
  "kernelspec": {
   "display_name": "ci",
   "language": "python",
   "name": "python3"
  },
  "language_info": {
   "codemirror_mode": {
    "name": "ipython",
    "version": 3
   },
   "file_extension": ".py",
   "mimetype": "text/x-python",
   "name": "python",
   "nbconvert_exporter": "python",
   "pygments_lexer": "ipython3",
   "version": "3.10.15"
  }
 },
 "nbformat": 4,
 "nbformat_minor": 2
}
