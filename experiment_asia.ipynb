{
 "cells": [
  {
   "cell_type": "code",
   "execution_count": 1,
   "metadata": {},
   "outputs": [
    {
     "name": "stderr",
     "output_type": "stream",
     "text": [
      "INFO:datasets:PyTorch version 2.5.1 available.\n",
      "INFO:httpx:HTTP Request: GET https://raw.githubusercontent.com/BerriAI/litellm/main/model_prices_and_context_window.json \"HTTP/1.1 200 OK\"\n"
     ]
    }
   ],
   "source": [
    "import argparse\n",
    "\n",
    "from causaldag import DAG\n",
    "\n",
    "import networkx as nx\n",
    "import os\n",
    "import pandas as pd\n",
    "import wandb\n",
    "import numpy as np\n",
    "import random\n",
    "\n",
    "from algo.greedy_search import greedy_search_mec_size, greedy_search_confidence, greedy_search_bic\n",
    "\n",
    "from models.noisy_expert import NoisyExpert\n",
    "from models.oracles import EpsilonOracle\n",
    "\n",
    "from utils.data_generation import generate_dataset\n",
    "from utils.dag_utils import get_undirected_edges, is_dag_in_mec, get_mec, get_undirected_edges_pdag\n",
    "from utils.metrics import get_mec_shd\n",
    "from utils.language_models import get_lms_probs, temperature_scaling\n",
    "from utils.CI_utils import load_data_from_file, save_data_to_file, data2pdag"
   ]
  },
  {
   "cell_type": "code",
   "execution_count": 2,
   "metadata": {},
   "outputs": [
    {
     "data": {
      "application/vnd.jupyter.widget-view+json": {
       "model_id": "c3a67aaaf1f2483d879d8e43e7fc3e3f",
       "version_major": 2,
       "version_minor": 0
      },
      "text/plain": [
       "  0%|          | 0/8 [00:00<?, ?it/s]"
      ]
     },
     "metadata": {},
     "output_type": "display_data"
    }
   ],
   "source": [
    "algo=\"greedy_conf\"\n",
    "# algo=\"naive\"\n",
    "prior=\"mec\"\n",
    "dataset=\"asia\"\n",
    "tabular=False\n",
    "probability=\"posterior\"\n",
    "preprocess=True\n",
    "calibrate=False\n",
    "epsilon=0.05\n",
    "tolerance=0.1\n",
    "seed=953100\n",
    "verbose=False\n",
    "\n",
    "\n",
    "def blindly_follow_expert(observed_arcs, model, cpdag, *args, **kwargs):\n",
    "    return [list(observed_arcs) + list(cpdag.arcs)], observed_arcs, model(observed_arcs, observed_arcs)\n",
    "\n",
    "\n",
    "match algo:\n",
    "    case \"greedy_mec\":\n",
    "        algo = greedy_search_mec_size\n",
    "    case \"greedy_conf\":\n",
    "        algo = greedy_search_confidence\n",
    "    case \"greedy_bic\":\n",
    "        algo = greedy_search_bic\n",
    "        tolerance = 1.\n",
    "\n",
    "    case \"global_scoring\":\n",
    "        from algo.global_scoring import global_scoring\n",
    "        algo = global_scoring\n",
    "        tolerance = 1.\n",
    "\n",
    "    case \"PC\":\n",
    "        algo = lambda a, b, cpdag, c, tol: (get_mec(cpdag), dict(), 1.)\n",
    "        tolerance = 0.\n",
    "    case \"naive\":\n",
    "        algo = blindly_follow_expert\n",
    "        tolerance = 1.\n",
    "\n",
    "match prior:\n",
    "    case \"mec\":\n",
    "        from models.priors import MECPrior\n",
    "        prior_type = MECPrior\n",
    "    \n",
    "    case \"independent\":\n",
    "        from models.priors import IndependentPrior\n",
    "        prior_type = IndependentPrior\n",
    "\n",
    "if not os.path.exists(\"_raw_bayesian_nets\"):\n",
    "    from utils.download_datasets import download_datasets\n",
    "    download_datasets()\n",
    "\n",
    "true_G, data = generate_dataset('_raw_bayesian_nets/' + dataset + '.bif')\n",
    "\n",
    "if preprocess:\n",
    "    # use pc and ges to generate the cpdag\n",
    "    # try load data\n",
    "    try:\n",
    "        data = load_data_from_file('./' + dataset+'_data' + '.pkl')\n",
    "    except:\n",
    "        # save data\n",
    "        save_data_to_file(data, './' + dataset+'_data' + '.pkl')\n",
    "    \n",
    "    cpdag = data2pdag(data)\n",
    "\n",
    "else:\n",
    "    cpdag = DAG.from_nx(true_G).cpdag()"
   ]
  },
  {
   "cell_type": "code",
   "execution_count": 3,
   "metadata": {},
   "outputs": [],
   "source": [
    "undirected_edges = get_undirected_edges_pdag(cpdag, verbose=True)\n",
    "llm_engine=\"text-davinci-002\"\n",
    "if tabular:\n",
    "    oracle = EpsilonOracle(undirected_edges, epsilon=epsilon)\n",
    "    observations = oracle.decide_all()\n",
    "    likelihoods = oracle.likelihoods\n",
    "\n",
    "else:\n",
    "    try:\n",
    "        codebook = pd.read_csv('codebooks/' + dataset + '.csv')\n",
    "    except:\n",
    "        print('cannot load the codebook')\n",
    "        codebook = None\n",
    "\n",
    "    if calibrate:\n",
    "        tmp_scale, eps = temperature_scaling(cpdag.arcs, codebook, engine=llm_engine)\n",
    "        print(\"LLM has %.3f error rate\" % eps)\n",
    "    else:\n",
    "        tmp_scale = 1.\n",
    "\n",
    "    likelihoods, observations = get_lms_probs(undirected_edges, codebook, tmp_scale, engine=llm_engine)"
   ]
  },
  {
   "cell_type": "code",
   "execution_count": 4,
   "metadata": {},
   "outputs": [
    {
     "data": {
      "text/plain": [
       "[('lung', 'either'),\n",
       " ('asia', 'tub'),\n",
       " ('xray', 'either'),\n",
       " ('smoke', 'bronc'),\n",
       " ('tub', 'either'),\n",
       " ('smoke', 'lung')]"
      ]
     },
     "execution_count": 4,
     "metadata": {},
     "output_type": "execute_result"
    }
   ],
   "source": [
    "observations"
   ]
  },
  {
   "cell_type": "code",
   "execution_count": 5,
   "metadata": {},
   "outputs": [
    {
     "name": "stdout",
     "output_type": "stream",
     "text": [
      "\n",
      "True Orientations: {('either', 'lung'), ('asia', 'tub'), ('xray', 'either'), ('smoke', 'bronc'), ('tub', 'either'), ('smoke', 'lung')}\n",
      "\n",
      "Orientations given by the expert: [('lung', 'either'), ('asia', 'tub'), ('xray', 'either'), ('smoke', 'bronc'), ('tub', 'either'), ('smoke', 'lung')]\n",
      "{('either', 'lung'): 0.5, ('lung', 'either'): 0.5, ('asia', 'tub'): 0.8571428571360543, ('tub', 'asia'): 0.14285714286394557, ('xray', 'either'): 0.6086956521540643, ('either', 'xray'): 0.39130434784593576, ('smoke', 'bronc'): 0.9982206405683903, ('bronc', 'smoke'): 0.0017793594316096988, ('tub', 'either'): 0.8906249999963379, ('either', 'tub'): 0.10937500000366211, ('smoke', 'lung'): 0.9972375690555538, ('lung', 'smoke'): 0.002762430944446141}\n"
     ]
    }
   ],
   "source": [
    "print(\"\\nTrue Orientations:\", undirected_edges)\n",
    "print(\"\\nOrientations given by the expert:\", observations)\n",
    "print(likelihoods)\n",
    "prior = prior_type(cpdag)\n",
    "model = NoisyExpert(prior, likelihoods)"
   ]
  },
  {
   "cell_type": "code",
   "execution_count": null,
   "metadata": {},
   "outputs": [],
   "source": []
  },
  {
   "cell_type": "code",
   "execution_count": 6,
   "metadata": {},
   "outputs": [],
   "source": [
    "match probability:\n",
    "    case \"posterior\":\n",
    "        prob_method = model.posterior\n",
    "    \n",
    "    case \"likelihood\":\n",
    "        prob_method = model.likelihood\n",
    "\n",
    "    case \"prior\":\n",
    "        prob_method = lambda _, edges: prior(edges)\n",
    "\n",
    "new_mec, decisions, p_correct = algo(observations, prob_method, cpdag, likelihoods, tol=0.3)"
   ]
  },
  {
   "cell_type": "code",
   "execution_count": 7,
   "metadata": {},
   "outputs": [
    {
     "data": {
      "text/plain": [
       "{('either', 'lung'): 0.5,\n",
       " ('lung', 'either'): 0.5,\n",
       " ('asia', 'tub'): 0.8571428571360543,\n",
       " ('tub', 'asia'): 0.14285714286394557,\n",
       " ('xray', 'either'): 0.6086956521540643,\n",
       " ('either', 'xray'): 0.39130434784593576,\n",
       " ('smoke', 'bronc'): 0.9982206405683903,\n",
       " ('bronc', 'smoke'): 0.0017793594316096988,\n",
       " ('tub', 'either'): 0.8906249999963379,\n",
       " ('either', 'tub'): 0.10937500000366211,\n",
       " ('smoke', 'lung'): 0.9972375690555538,\n",
       " ('lung', 'smoke'): 0.002762430944446141}"
      ]
     },
     "execution_count": 7,
     "metadata": {},
     "output_type": "execute_result"
    }
   ],
   "source": [
    "likelihoods"
   ]
  },
  {
   "cell_type": "code",
   "execution_count": 8,
   "metadata": {},
   "outputs": [
    {
     "data": {
      "text/plain": [
       "[('lung', 'either'),\n",
       " ('lung', 'either'),\n",
       " ('tub', 'asia'),\n",
       " ('tub', 'asia'),\n",
       " ('either', 'xray'),\n",
       " ('either', 'xray'),\n",
       " ('smoke', 'bronc'),\n",
       " ('smoke', 'bronc'),\n",
       " ('either', 'tub'),\n",
       " ('either', 'tub'),\n",
       " ('smoke', 'lung'),\n",
       " ('smoke', 'lung')]"
      ]
     },
     "execution_count": 8,
     "metadata": {},
     "output_type": "execute_result"
    }
   ],
   "source": [
    "decisions"
   ]
  },
  {
   "cell_type": "code",
   "execution_count": 36,
   "metadata": {},
   "outputs": [
    {
     "data": {
      "text/plain": [
       "[[('lung', 'either'),\n",
       "  ('either', 'dysp'),\n",
       "  ('either', 'xray'),\n",
       "  ('bronc', 'dysp'),\n",
       "  ('tub', 'asia'),\n",
       "  ('smoke', 'bronc'),\n",
       "  ('either', 'tub'),\n",
       "  ('smoke', 'lung')]]"
      ]
     },
     "execution_count": 36,
     "metadata": {},
     "output_type": "execute_result"
    }
   ],
   "source": [
    "new_mec"
   ]
  },
  {
   "cell_type": "code",
   "execution_count": 37,
   "metadata": {},
   "outputs": [
    {
     "data": {
      "text/plain": [
       "[[('either', 'dysp'),\n",
       "  ('either', 'xray'),\n",
       "  ('bronc', 'dysp'),\n",
       "  ('tub', 'asia'),\n",
       "  ('either', 'lung'),\n",
       "  ('lung', 'smoke'),\n",
       "  ('smoke', 'bronc'),\n",
       "  ('either', 'tub')],\n",
       " [('lung', 'either'),\n",
       "  ('either', 'dysp'),\n",
       "  ('either', 'xray'),\n",
       "  ('bronc', 'dysp'),\n",
       "  ('tub', 'asia'),\n",
       "  ('either', 'tub'),\n",
       "  ('bronc', 'smoke'),\n",
       "  ('smoke', 'lung')],\n",
       " [('either', 'dysp'),\n",
       "  ('either', 'xray'),\n",
       "  ('bronc', 'dysp'),\n",
       "  ('tub', 'asia'),\n",
       "  ('either', 'lung'),\n",
       "  ('lung', 'smoke'),\n",
       "  ('smoke', 'bronc'),\n",
       "  ('tub', 'either')],\n",
       " [('either', 'dysp'),\n",
       "  ('either', 'xray'),\n",
       "  ('bronc', 'dysp'),\n",
       "  ('asia', 'tub'),\n",
       "  ('either', 'lung'),\n",
       "  ('lung', 'smoke'),\n",
       "  ('smoke', 'bronc'),\n",
       "  ('tub', 'either')],\n",
       " [('lung', 'either'),\n",
       "  ('either', 'dysp'),\n",
       "  ('either', 'xray'),\n",
       "  ('bronc', 'dysp'),\n",
       "  ('tub', 'asia'),\n",
       "  ('smoke', 'bronc'),\n",
       "  ('either', 'tub'),\n",
       "  ('smoke', 'lung')],\n",
       " [('either', 'dysp'),\n",
       "  ('bronc', 'dysp'),\n",
       "  ('tub', 'asia'),\n",
       "  ('either', 'lung'),\n",
       "  ('lung', 'smoke'),\n",
       "  ('smoke', 'bronc'),\n",
       "  ('either', 'tub'),\n",
       "  ('xray', 'either')],\n",
       " [('lung', 'either'),\n",
       "  ('either', 'dysp'),\n",
       "  ('either', 'xray'),\n",
       "  ('bronc', 'dysp'),\n",
       "  ('tub', 'asia'),\n",
       "  ('lung', 'smoke'),\n",
       "  ('smoke', 'bronc'),\n",
       "  ('either', 'tub')]]"
      ]
     },
     "execution_count": 37,
     "metadata": {},
     "output_type": "execute_result"
    }
   ],
   "source": [
    "get_mec(cpdag)"
   ]
  },
  {
   "cell_type": "code",
   "execution_count": 9,
   "metadata": {},
   "outputs": [
    {
     "name": "stdout",
     "output_type": "stream",
     "text": [
      "\n",
      "Final wrong orientations: [('either', 'tub'), ('tub', 'asia')]\n",
      "\n",
      "Confidence true DAG is in final MEC: 0.732\n",
      "Final MEC's SHD:  2.0\n",
      "MEC size:  1\n",
      "true-still-in-MEC:  0.0\n"
     ]
    }
   ],
   "source": [
    "shd, learned_adj = get_mec_shd(true_G, new_mec)\n",
    "    \n",
    "learned_G = nx.from_numpy_array(learned_adj, create_using=nx.DiGraph)\n",
    "learned_G = nx.relabel_nodes(learned_G, {i: n for i, n in zip(learned_G.nodes, true_G.nodes)})\n",
    "\n",
    "diff = nx.difference(learned_G, true_G)\n",
    "print(\"\\nFinal wrong orientations:\", diff.edges)\n",
    "\n",
    "print('\\nConfidence true DAG is in final MEC: %.3f' % p_correct)\n",
    "print(\"Final MEC's SHD: \", shd)\n",
    "print('MEC size: ', len(new_mec))\n",
    "print('true-still-in-MEC: ', is_dag_in_mec(true_G, new_mec))"
   ]
  },
  {
   "cell_type": "code",
   "execution_count": 10,
   "metadata": {},
   "outputs": [
    {
     "name": "stdout",
     "output_type": "stream",
     "text": [
      "({('bronc', 'dysp'), ('either', 'dysp')}, {('either', 'lung'), ('asia', 'tub'), ('xray', 'either'), ('lung', 'smoke'), ('bronc', 'smoke'), ('tub', 'either')})\n",
      "({('lung', 'either'), ('either', 'xray'), ('either', 'tub'), ('bronc', 'dysp'), ('tub', 'asia'), ('smoke', 'bronc'), ('either', 'dysp'), ('smoke', 'lung')}, set())\n"
     ]
    }
   ],
   "source": [
    "import networkx as nx\n",
    "def mec_to_graph(mec_list):\n",
    "    directed_set = set()\n",
    "    undirected_set = set()\n",
    "    for mec in mec_list:\n",
    "        for edge in mec:\n",
    "            # if (edge[0], edge[1]) in directed_set, do nothing; if (edge[1], edge[0]) in directed_set, remove it, add to undirected_set\n",
    "            if (edge[0], edge[1]) in directed_set or ((edge[0], edge[1]) in undirected_set or (edge[1], edge[0]) in undirected_set):\n",
    "                continue\n",
    "            elif (edge[1], edge[0]) in directed_set:\n",
    "                directed_set.remove((edge[1], edge[0]))\n",
    "                undirected_set.add((edge[0], edge[1]))\n",
    "            else:\n",
    "                directed_set.add(edge)  \n",
    "    return directed_set, undirected_set\n",
    "\n",
    "print(mec_to_graph(get_mec(cpdag)))\n",
    "print(mec_to_graph(new_mec))"
   ]
  },
  {
   "cell_type": "code",
   "execution_count": 17,
   "metadata": {},
   "outputs": [
    {
     "data": {
      "text/plain": [
       "OutEdgeView([('asia', 'tub'), ('bronc', 'dysp'), ('either', 'xray'), ('either', 'dysp'), ('lung', 'either'), ('smoke', 'lung'), ('smoke', 'bronc'), ('tub', 'either')])"
      ]
     },
     "execution_count": 17,
     "metadata": {},
     "output_type": "execute_result"
    }
   ],
   "source": [
    "true_G.edges"
   ]
  },
  {
   "cell_type": "code",
   "execution_count": 17,
   "metadata": {},
   "outputs": [
    {
     "data": {
      "text/plain": [
       "0.9285714285714286"
      ]
     },
     "execution_count": 17,
     "metadata": {},
     "output_type": "execute_result"
    }
   ],
   "source": [
    "def edge_acc(directed_edges,undirected_edges, true_G):\n",
    "    n=len(true_G.nodes)\n",
    "    total_possible_edges=n*(n-1)/2\n",
    "\n",
    "    true_edges = set(true_G.edges)\n",
    "    incorrect = 0\n",
    "\n",
    "    # count incorrect edges\n",
    "    for edge in directed_edges:\n",
    "        if edge not in true_edges:\n",
    "            incorrect += 1\n",
    "    \n",
    "    for edge in undirected_edges:\n",
    "        # For undirected edges, check if either direction exists in true graph\n",
    "        reverse_edge = (edge[1], edge[0])\n",
    "        incorrect += 1\n",
    "    \n",
    "    for edge in true_edges:\n",
    "        reverse_edge = (edge[1], edge[0])\n",
    "        if (edge not in directed_edges and \n",
    "            reverse_edge not in directed_edges and\n",
    "            edge not in undirected_edges and \n",
    "            reverse_edge not in undirected_edges):\n",
    "            incorrect += 1\n",
    "    correct = total_possible_edges - incorrect\n",
    "    accuracy = correct / total_possible_edges\n",
    "    return accuracy\n",
    "res=mec_to_graph(new_mec)\n",
    "edge_acc(res[0], res[1], true_G)"
   ]
  },
  {
   "cell_type": "code",
   "execution_count": 16,
   "metadata": {},
   "outputs": [
    {
     "data": {
      "text/plain": [
       "0.7857142857142857"
      ]
     },
     "execution_count": 16,
     "metadata": {},
     "output_type": "execute_result"
    }
   ],
   "source": [
    "def edge_acc_pc(cpdag, true_G):\n",
    "    directed_edges = set(cpdag.arcs)\n",
    "    undirected_edges = set(get_undirected_edges_pdag(cpdag))\n",
    "\n",
    "    n=len(true_G.nodes)\n",
    "    total_possible_edges=n*(n-1)/2\n",
    "\n",
    "    true_edges = set(true_G.edges)\n",
    "    incorrect = 0\n",
    "\n",
    "    # count incorrect edges\n",
    "    for edge in directed_edges:\n",
    "        if edge not in true_edges:\n",
    "            incorrect += 1\n",
    "    \n",
    "    for edge in undirected_edges:\n",
    "        # For undirected edges, check if either direction exists in true graph\n",
    "        incorrect += 1\n",
    "    \n",
    "    for edge in true_edges:\n",
    "        reverse_edge = (edge[1], edge[0])\n",
    "        if (edge not in directed_edges and \n",
    "            reverse_edge not in directed_edges and\n",
    "            edge not in undirected_edges and \n",
    "            reverse_edge not in undirected_edges):\n",
    "            incorrect += 1\n",
    "    correct = total_possible_edges - incorrect\n",
    "    accuracy = correct / total_possible_edges\n",
    "    return accuracy\n",
    "\n",
    "edge_acc_pc(cpdag, true_G)"
   ]
  },
  {
   "cell_type": "code",
   "execution_count": null,
   "metadata": {},
   "outputs": [],
   "source": []
  }
 ],
 "metadata": {
  "kernelspec": {
   "display_name": "ci",
   "language": "python",
   "name": "python3"
  },
  "language_info": {
   "codemirror_mode": {
    "name": "ipython",
    "version": 3
   },
   "file_extension": ".py",
   "mimetype": "text/x-python",
   "name": "python",
   "nbconvert_exporter": "python",
   "pygments_lexer": "ipython3",
   "version": "3.10.15"
  }
 },
 "nbformat": 4,
 "nbformat_minor": 2
}
